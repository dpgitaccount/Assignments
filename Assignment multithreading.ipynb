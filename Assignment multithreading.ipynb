{
 "cells": [
  {
   "cell_type": "code",
   "execution_count": 1,
   "id": "1b6736fb-3f0b-43b2-aa5d-44be0e7499c8",
   "metadata": {},
   "outputs": [],
   "source": [
    "# Q1.\n",
    "# ANS-\n",
    "# Multiple threads within a process share the same data space with the main thread and can therefore share information or communicate with each other more easily than if they were separate processes.\n",
    "# It can be pre-empted (interrupted).\n",
    "# It can temporarily be put on sleeping while other threads are running - it is known as is called yielding.\n",
    "# Override the __init__(self [,args]) method to add additional arguments.\n",
    "\n",
    "# Modules which are handle thread in python are following:-\n",
    "\n",
    "# 1.threading.activeCount() \n",
    "\n",
    "# 2.threading.currentThread() \n",
    "\n",
    "# 3.threading.enumerate() "
   ]
  },
  {
   "cell_type": "code",
   "execution_count": 2,
   "id": "788fefa9-cf14-4359-83f9-5e198dbee74c",
   "metadata": {},
   "outputs": [],
   "source": [
    "# Q2.\n",
    "# ANS-\n",
    "# Threading module is used for creating, controlling and managing threads in python.\n",
    "# Threading module included with Python 2.4 provides much more powerful, high-level support for threads than the thread module discussed in the previous section.\n",
    "# The threading module exposes all the methods of the thread module and provides some additional methods.\n",
    "\n",
    "# 1. activeCount():- returns the number of thread objects that are active.\n",
    "# 2. currentThread():- Returns the number of thread objects in the caller's thread control.\n",
    "# 3. enumerate():- Returns a list of all thread objects that are currently active.\n"
   ]
  },
  {
   "cell_type": "code",
   "execution_count": 3,
   "id": "e9f2bb10-6e4f-4725-bae4-08c753a417aa",
   "metadata": {},
   "outputs": [],
   "source": [
    "# Q3.\n",
    "# ANS-\n",
    "# 1.run() − The run() method is the entry point for a thread.\n",
    "\n",
    "# 2.start() − The start() method starts a thread by calling the run method.\n",
    "\n",
    "# 3.join([time]) − The join() waits for threads to terminate.\n",
    "\n",
    "# 4.isAlive() − The isAlive() method checks whether a thread is still executing.\n"
   ]
  },
  {
   "cell_type": "code",
   "execution_count": 5,
   "id": "0bba994c-57b8-4ccf-9915-6e62c65b083d",
   "metadata": {},
   "outputs": [
    {
     "name": "stdout",
     "output_type": "stream",
     "text": [
      "[1, 8, 27, 64]\n"
     ]
    }
   ],
   "source": [
    "# Q4.\n",
    "# ANS-\n",
    "def cube_list_recursive(lst):\n",
    "\tif len(lst) == 0:\n",
    "\t\treturn []\n",
    "\telse:\n",
    "\t\treturn [lst[0]**3] + cube_list_recursive(lst[1:])\n",
    "\n",
    "# Initializing list\n",
    "l = [1, 2, 3, 4]\n",
    "\n",
    "# Cube List using loop\n",
    "res = cube_list_recursive(l)\n",
    "\n",
    "print(res)\n"
   ]
  },
  {
   "cell_type": "code",
   "execution_count": 6,
   "id": "03faba7e-8995-4a69-afb7-45fde6e9d548",
   "metadata": {},
   "outputs": [],
   "source": [
    "# Q5.\n",
    "# ANS-\n",
    "\n",
    "# ADVANTAGES:-\n",
    "# 1.Enhanced performance by decreased development time.\n",
    "# 2.Simplified and streamlined program coding.\n",
    "# 3.Improvised GUI responsiveness.\n",
    "# 4.Simultaneous and parallelized occurrence of tasks.\n",
    "# 5.Better use of cache storage by utilization of resources.\n",
    "# 6.Decreased cost of maintenance.\n",
    "# 7.Better use of CPU resource.\n",
    "\n",
    "# DISADVANTAGES:-\n",
    "# 1.Complex debugging and testing processes.\n",
    "# 2.Overhead switching of context.\n",
    "# 3.Increased potential for deadlock occurrence.\n",
    "# 4.Increased difficulty level in writing a program.\n",
    "# 5.Unpredictable results.\n",
    "\n",
    "\n"
   ]
  },
  {
   "cell_type": "code",
   "execution_count": null,
   "id": "16bf52da-7d5f-4711-8cb2-3b30da8c14c2",
   "metadata": {},
   "outputs": [],
   "source": [
    "Q6.\n",
    "ANS-\n",
    "DEADLOCK CONDITION:-\n",
    "A deadlock condition is occurs when two threads each lock a different variable at the same time and then try to lock the variable that the other thread already locked. As a result, each thread stops executing and waits for the other thread to release the variable. Because each thread is holding the variable that the other thread wants, nothing occurs, and the threads remain deadlocked.\n",
    "Example-\n",
    "A thread that waits on itself (e.g. attempts to acquire the same mutex lock twice). Threads that wait on each other (e.g. A waits on B, B waits on A). Thread that fails to release a resource (e.g. mutex lock, semaphore, barrier, condition, event, etc.)\n",
    "\n",
    "RACE CONDITION:-\n",
    "A race condition is occurs when two threads access a shared variable at the same time. The first thread reads the variable, and the second thread reads the same value from the variable. Then the first thread and second thread perform their operations on the value, and they race to see which thread can write the value last to the shared variable. The value of the thread that writes its value last is preserved, because the thread is writing over the value that the previous thread wrote.\n",
    "Example-\n",
    "\n"
   ]
  }
 ],
 "metadata": {
  "kernelspec": {
   "display_name": "Python 3 (ipykernel)",
   "language": "python",
   "name": "python3"
  },
  "language_info": {
   "codemirror_mode": {
    "name": "ipython",
    "version": 3
   },
   "file_extension": ".py",
   "mimetype": "text/x-python",
   "name": "python",
   "nbconvert_exporter": "python",
   "pygments_lexer": "ipython3",
   "version": "3.10.8"
  }
 },
 "nbformat": 4,
 "nbformat_minor": 5
}
