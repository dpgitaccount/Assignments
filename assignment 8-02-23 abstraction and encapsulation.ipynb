{
 "cells": [
  {
   "cell_type": "code",
   "execution_count": null,
   "id": "d2b645ac-e63a-4835-8ea7-697a3d05f3d9",
   "metadata": {},
   "outputs": [],
   "source": [
    "# Q1.\n",
    "# ANS--\n",
    "# ABSTRACTION--\n",
    "# Abstraction is a process whic is used for the hiding the unnecessary information from the user.in this the user only interact with the basic implementation of the function,but inner working is hidden.\n",
    "# Eg:-\n",
    "import abc\n",
    "class stockmarket:\n",
    "    @abc.abstractmethod\n",
    "    def stockmarket_detials(self):\n",
    "        pass\n",
    "    \n",
    "    @abc.abstractmethod\n",
    "    def stockmarket_price(self):\n",
    "        pass\n",
    "    \n",
    "    @abc.abstractmethod\n",
    "    def stockmarket_upsdown(self):\n",
    "        pass\n"
   ]
  },
  {
   "cell_type": "code",
   "execution_count": null,
   "id": "5ab9f0a3-4205-41fd-b51d-3fe077091d9a",
   "metadata": {},
   "outputs": [],
   "source": []
  },
  {
   "cell_type": "code",
   "execution_count": null,
   "id": "cf9d67a9-92d8-47ad-a400-edd50c871156",
   "metadata": {},
   "outputs": [],
   "source": [
    "class stockmarket_details(stockmarket):\n",
    "    \n",
    "    def stockmarket_details(self):\n",
    "        return \" this is a details about today's stockmarket \"\n",
    "    def stockmarket_price(self):\n",
    "        return \" today's stock market price is ups or down\"\n",
    "    \n",
    "        \n",
    "    "
   ]
  },
  {
   "cell_type": "code",
   "execution_count": null,
   "id": "4c0537ca-0da3-444f-9221-d8493563073f",
   "metadata": {},
   "outputs": [],
   "source": [
    "class stock_price_value(stockmarket):\n",
    "    \n",
    "    def stockmarket_details(self):\n",
    "        return \"this is give an information of stock market details\"\n",
    "    def stockmarket_price(self):\n",
    "        return \"this is give an information about stock price of stock market\""
   ]
  },
  {
   "cell_type": "code",
   "execution_count": null,
   "id": "3dadf30d-ce19-44ee-85ef-3840279736c5",
   "metadata": {},
   "outputs": [],
   "source": [
    "smd = stockmarket_details()\n",
    "smd.stockmarket_details()"
   ]
  },
  {
   "cell_type": "code",
   "execution_count": null,
   "id": "5129ac21-7bd8-4811-bb37-0eabdd511bf9",
   "metadata": {},
   "outputs": [],
   "source": [
    "spv = stock_price_value()\n",
    "spv.stockmarket_details()"
   ]
  },
  {
   "cell_type": "code",
   "execution_count": null,
   "id": "aba2ce58-1223-4a5a-a063-3cb321ba8561",
   "metadata": {},
   "outputs": [],
   "source": [
    "# Q2.\n",
    "# ANS--\n",
    "# Difference b/w Abstration and Encapsulation.\n",
    "# 1. Abstaction solves the problem in the design level and Encapsulation is solves the problem in the implementation level.\n",
    "# 2. Abstration is  used to hide the unnecessary data and Encasulation is hiding the data and code into a single unit to protect the data from outside world.\n",
    "# 3. Abstraction is outer layout used in terms of design and Encapsulation is inner layout used in terms of implementation.\n",
    "\n",
    "class Library:\n",
    "    def __init__(self, books):\n",
    "        self.books = books\n",
    " \n",
    "    def list_books(self):\n",
    "        print(\"Available Books\")\n",
    "        for book in self.books:\n",
    "            print(book)\n",
    " \n",
    "    def borrow_book(self, borrow_book):\n",
    "        if borrow_book in self.books:\n",
    "            print(\"Get Your Book Now\")\n",
    "            self.books.remove(borrow_book)\n",
    "        else:\n",
    "            print(\"Book not Available\")\n",
    " \n",
    "    def receive_book(self, receive_book):\n",
    "        print(\"You have returned the book\")\n",
    "        self.books.append(receive_book)\n",
    " \n",
    " \n",
    "books = ['python', 'C++', 'Java']\n",
    "pwskills= Library(books)\n",
    " \n",
    "msg = \"\"\"\n",
    "    1.Display Book\n",
    "    2.Borrow Book\n",
    "    3.Return Book\n",
    "\"\"\"\n",
    "while True:\n",
    "    print(msg)\n",
    "    ch = int(input(\"Enter Your Choice : \"))\n",
    "    if ch == 1:\n",
    "        pwskill.list_books()\n",
    "    elif ch == 2:\n",
    "        book = input(\"Enter Book Name To Borrow : \")\n",
    "        pwskill.borrow_book(book)\n",
    "    elif ch == 3:\n",
    "        book = input(\"Enter Book Name To Return : \")\n",
    "        pwskill.receive_book(book)\n",
    "    else:\n",
    "        print(\"Thank You come again\")\n",
    "        quit()\n",
    " "
   ]
  },
  {
   "cell_type": "code",
   "execution_count": null,
   "id": "a6a83afd-c89c-425e-965d-66f1d27d7176",
   "metadata": {},
   "outputs": [],
   "source": [
    "# Q3.\n",
    "# ANS--\n",
    "# abc module:- abc module provides the infrastructure for defining abstract base classes in python.\n",
    "#             -it is inbuilt in python library.\n",
    "#             - the abstract class is cannot be instantiated in python so we can use abc module for defining custom abstract base classes.\n",
    "#             - an abstract method is called by its subclasses name. "
   ]
  },
  {
   "cell_type": "code",
   "execution_count": null,
   "id": "536ff98d-320a-4c43-a188-0ca05ae8eeff",
   "metadata": {},
   "outputs": [],
   "source": [
    "# Q4.\n",
    "# ANS--\n",
    "# Data abstraction is a method where essential elements are displayed to the user and unnecessary elements or data are hiden.\n",
    "# In python data abstraction is achieved by using abstract classes and methods in our program."
   ]
  },
  {
   "cell_type": "code",
   "execution_count": null,
   "id": "a5c2a2c5-4a57-4a87-a684-426813165d63",
   "metadata": {},
   "outputs": [],
   "source": [
    "# Q5.\n",
    "# ANS--\n",
    "# We cannot create an instance or object of an abstract class in Python.\n",
    "# Because Abstract classes are not complete, as they may have some methods that are not defined\n",
    "# But they can be subclassed. When an abstract class is subclassed, the subclass usually provides implementations for all of the abstract methods in its parent class. However, if it does not, then the subclass must also be declared abstract ."
   ]
  }
 ],
 "metadata": {
  "kernelspec": {
   "display_name": "Python 3 (ipykernel)",
   "language": "python",
   "name": "python3"
  },
  "language_info": {
   "codemirror_mode": {
    "name": "ipython",
    "version": 3
   },
   "file_extension": ".py",
   "mimetype": "text/x-python",
   "name": "python",
   "nbconvert_exporter": "python",
   "pygments_lexer": "ipython3",
   "version": "3.10.8"
  }
 },
 "nbformat": 4,
 "nbformat_minor": 5
}
