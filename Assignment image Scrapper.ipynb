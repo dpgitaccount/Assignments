{
 "cells": [
  {
   "cell_type": "code",
   "execution_count": 1,
   "id": "76e87177-2316-4676-8a85-b96b8919f5c8",
   "metadata": {},
   "outputs": [
    {
     "name": "stdout",
     "output_type": "stream",
     "text": [
      "[]\n"
     ]
    }
   ],
   "source": [
    "# Q1.\n",
    "# ANS-\n",
    "import requests\n",
    "from bs4 import BeautifulSoup\n",
    "\n",
    "url = \"https://www.youtube.com/@PW-Foundation/videos\"\n",
    "\n",
    "# Send a GET request to the website and parse the HTML content\n",
    "response = requests.get(url)\n",
    "soup = BeautifulSoup(response.content, \"html.parser\")\n",
    "\n",
    "video_elements = soup.find_all(\"video\")[:5]\n",
    "\n",
    "# Extract the URLs of the videos\n",
    "video_urls = []\n",
    "for video in video_elements:\n",
    "    url = video[\"src\"]\n",
    "    video_urls.append(url)\n",
    "\n",
    "# Print the URLs of the first five videos\n",
    "print(video_urls)\n"
   ]
  },
  {
   "cell_type": "code",
   "execution_count": null,
   "id": "2500e8e6-df71-4016-b1c7-62d51672d45f",
   "metadata": {},
   "outputs": [],
   "source": [
    "import requests\n",
    "from bs4 import BeautifulSoup\n",
    "\n",
    "# URL of the website containing the videos\n",
    "url = \"https://www.youtube.com/@PW-Foundation/videos\"\n",
    "\n",
    "# Send a GET request to the website and parse the HTML content\n",
    "response = requests.get(url)\n",
    "soup = BeautifulSoup(response.content, \"html.parser\")\n",
    "\n",
    "# Find the first five video elements on the page\n",
    "video_elements = soup.find_all(\"video\")[:5]\n",
    "\n",
    "thumbnail_urls = []\n",
    "for video in video_elements:\n",
    "    thumbnail_url = video.find(\"img\")[\"src\"]\n",
    "    thumbnail_urls.append(thumbnail_url)\n",
    "\n",
    "print(thumbnail_urls)\n"
   ]
  },
  {
   "cell_type": "code",
   "execution_count": null,
   "id": "8122b9a2-feac-4290-9ee4-770c0f0d26cc",
   "metadata": {},
   "outputs": [],
   "source": [
    "Q3.\n",
    "ANS-\n",
    "import requests\n",
    "from bs4 import BeautifulSoup\n",
    "\n",
    "# URL of the website containing the videos\n",
    "url = \"https://www.youtube.com/@PW-Foundation/videos\"\n",
    "\n",
    "# Send a GET request to the website and parse the HTML content\n",
    "response = requests.get(url)\n",
    "soup = BeautifulSoup(response.content, \"html.parser\")\n",
    "\n",
    "# Find the first five video elements on the pag\n",
    "video_elements = soup.find_all(\"video\")[:5]\n",
    "\n",
    "video_titles = []\n",
    "for video in video_elements:\n",
    "    title = video.find(\"h3\").text.strip()\n",
    "    video_titles.append(title)\n",
    "\n",
    "print(video_titles)\n"
   ]
  },
  {
   "cell_type": "code",
   "execution_count": null,
   "id": "01bcf53a-d1b5-4f6d-9da7-2d1aacd8c9bf",
   "metadata": {},
   "outputs": [],
   "source": [
    "Q4.\n",
    "ANS-\n",
    "import requests\n",
    "from bs4 import BeautifulSoup\n",
    "\n",
    "# URL of the website containing the videos\n",
    "url =  \"https://www.youtube.com/@PW-Foundation/videos\"\n",
    "\n",
    "# Send a GET request to the website and parse the HTML content\n",
    "response = requests.get(url)\n",
    "soup = BeautifulSoup(response.content, \"html.parser\")\n",
    "\n",
    "# Find the first five video elements on the page\n",
    "video_elements = soup.find_all(\"video\")[:5]\n",
    "\n",
    "video_views = []\n",
    "for video in video_elements:\n",
    "    views = video.find(\"span\", {\"class\": \"views\"}).text.strip()\n",
    "    video_views.append(views)\n",
    "\n",
    "print(video_views)\n"
   ]
  },
  {
   "cell_type": "code",
   "execution_count": null,
   "id": "0601ce25-f949-4235-a6d0-ddb62d92ff8b",
   "metadata": {},
   "outputs": [],
   "source": [
    "Q5.\n",
    "ANS-\n",
    "import requests\n",
    "from bs4 import BeautifulSoup\n",
    "\n",
    "# URL of the website containing the videos\n",
    "url =  \"https://www.youtube.com/@PW-Foundation/videos\"\n",
    "\n",
    "# Send a GET request to the website and parse the HTML content\n",
    "response = requests.get(url)\n",
    "soup = BeautifulSoup(response.content, \"html.parser\")\n",
    "\n",
    "# Find the first five video elements on the page\n",
    "video_elements = soup.find_all(\"video\")[:5]\n",
    "\n",
    "video_posting_times = []\n",
    "for video in video_elements:\n",
    "    posting_time = video.find(\"span\", {\"class\": \"posting-time\"}).text.strip()\n",
    "    video_posting_times.append(posting_time)\n",
    "\n",
    "print(video_posting_times)\n"
   ]
  },
  {
   "cell_type": "code",
   "execution_count": null,
   "id": "fde5a6f6-a9c3-48e9-8a29-9295f7893efb",
   "metadata": {},
   "outputs": [],
   "source": []
  }
 ],
 "metadata": {
  "kernelspec": {
   "display_name": "Python 3 (ipykernel)",
   "language": "python",
   "name": "python3"
  },
  "language_info": {
   "codemirror_mode": {
    "name": "ipython",
    "version": 3
   },
   "file_extension": ".py",
   "mimetype": "text/x-python",
   "name": "python",
   "nbconvert_exporter": "python",
   "pygments_lexer": "ipython3",
   "version": "3.10.8"
  }
 },
 "nbformat": 4,
 "nbformat_minor": 5
}
