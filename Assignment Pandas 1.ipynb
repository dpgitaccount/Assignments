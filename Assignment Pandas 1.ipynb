{
 "cells": [
  {
   "cell_type": "code",
   "execution_count": 8,
   "id": "3570a558-2b62-48ea-b6af-f25ddcb9597e",
   "metadata": {},
   "outputs": [
    {
     "name": "stdout",
     "output_type": "stream",
     "text": [
      "0     4\n",
      "1     8\n",
      "2    15\n",
      "3    16\n",
      "4    23\n",
      "5    42\n",
      "dtype: int64\n"
     ]
    }
   ],
   "source": [
    "# Q1.\n",
    "# AnS-\n",
    "import pandas as pd\n",
    "\n",
    "data = [4,8,15,16,23,42]\n",
    "series = pd.Series(data)\n",
    "\n",
    "print(series)"
   ]
  },
  {
   "cell_type": "code",
   "execution_count": 10,
   "id": "3976a948-bbd7-4409-98f1-0549306dbe40",
   "metadata": {},
   "outputs": [
    {
     "name": "stdout",
     "output_type": "stream",
     "text": [
      "0     2\n",
      "1     4\n",
      "2     6\n",
      "3     8\n",
      "4    10\n",
      "5    12\n",
      "6    14\n",
      "7    16\n",
      "8    18\n",
      "9    20\n",
      "dtype: int64\n"
     ]
    }
   ],
   "source": [
    "# Q2.\n",
    "# ANS-\n",
    "var_data = [2,4,6,8,10,12,14,16,18,20]\n",
    "series = pd.Series(var_data)\n",
    "\n",
    "print(series)\n"
   ]
  },
  {
   "cell_type": "code",
   "execution_count": 25,
   "id": "4217fb5d-99e6-4642-abaa-d80cf60406b1",
   "metadata": {},
   "outputs": [
    {
     "name": "stdout",
     "output_type": "stream",
     "text": [
      "     Name  Age  gender\n",
      "0   Alice   25  Female\n",
      "1     Bob   30    Male\n",
      "2  Claire   27  Female\n"
     ]
    }
   ],
   "source": [
    "# Q3.\n",
    "# ANS-\n",
    "data = {\"Name\":[\"Alice\",\"Bob\",\"Claire\"],\n",
    "        \"Age\":[25,30,27],\n",
    "        \"gender\":[\"Female\",\"Male\",\"Female\"]}\n",
    "df = pd.DataFrame(data)\n",
    "print(df)"
   ]
  },
  {
   "cell_type": "code",
   "execution_count": 26,
   "id": "b5b60ccf-26ea-461c-b381-cd8267cba83d",
   "metadata": {},
   "outputs": [
    {
     "name": "stdout",
     "output_type": "stream",
     "text": [
      "    name  age      city\n",
      "0   John   30  New York\n",
      "1   Jane   25    London\n",
      "2  David   35     Paris\n",
      "3  Emily   28    Sydney\n"
     ]
    }
   ],
   "source": [
    "Q4.\n",
    "# ANS-\n",
    "# In Pandas, a DataFrame is a two-dimensional labeled data structure with columns of potentially different data types, similar to a spreadsheet or SQL table. It is one of the most commonly used data structures in Pandas and is used to store and manipulate tabular data. A DataFrame can be thought of as a collection of Pandas Series, where each column of the DataFrame represents a single Series.\n",
    "\n",
    "# The main difference between a DataFrame and a Pandas Series is that a DataFrame can store multiple columns of data with potentially different data types, whereas a Series can store only a single column of data with a single data type. Additionally, a DataFrame has both row and column indices, whereas a Series has only a single index.\n",
    "\n",
    "# EXAMPLE-\n",
    "data = {'name': ['John', 'Jane', 'David', 'Emily'],\n",
    "        'age': [30, 25, 35, 28],\n",
    "        'city': ['New York', 'London', 'Paris', 'Sydney']}\n",
    "df = pd.DataFrame(data)\n",
    "print(df)"
   ]
  },
  {
   "cell_type": "code",
   "execution_count": 29,
   "id": "7e23ed95-6a1a-4655-800a-c26b15225f09",
   "metadata": {},
   "outputs": [
    {
     "name": "stdout",
     "output_type": "stream",
     "text": [
      "    name   age      city\n",
      "0   John  30.0  New York\n",
      "1   Jane  25.0    London\n",
      "2  David   NaN     Paris\n",
      "3  Emily  28.0    Sydney\n",
      "    name   age    city\n",
      "1   Jane  25.0  London\n",
      "2  David   NaN   Paris\n",
      "3  Emily  28.0  Sydney\n",
      "             age\n",
      "count   3.000000\n",
      "mean   27.666667\n",
      "std     2.516611\n",
      "min    25.000000\n",
      "25%    26.500000\n",
      "50%    28.000000\n",
      "75%    29.000000\n",
      "max    30.000000\n"
     ]
    }
   ],
   "source": [
    "# Q5.\n",
    "# ANS-\n",
    "# Pandas provides a wide range of functions to manipulate and analyze data in a DataFrame. Here are some common functions you can use to manipulate data in a Pandas DataFrame:\n",
    "\n",
    "# 1.head() and tail(): These functions are used to view the top and bottom rows of the DataFrame, respectively. For example, df.head() will show the first five rows of the DataFrame df.\n",
    "\n",
    "# 2.describe(): This function is used to view the summary statistics of the DataFrame, such as count, mean, standard deviation, minimum, and maximum values of each column.\n",
    "\n",
    "# 3.info(): This function is used to view the data types, non-null values, and memory usage of each column in the DataFrame.\n",
    "\n",
    "# 4.drop(): This function is used to drop rows or columns from the DataFrame. For example, df.drop('column_name', axis=1) will drop the column named 'column_name' from the DataFrame df.\n",
    "\n",
    "# EXAMPLE-\n",
    "import pandas as pd\n",
    "import numpy as np\n",
    "\n",
    "data = {'name': ['John', 'Jane', 'David', 'Emily'],\n",
    "        'age': [30, 25, np.nan, 28],\n",
    "        'city': ['New York', 'London', 'Paris', 'Sydney']}\n",
    "df = pd.DataFrame(data)\n",
    "\n",
    "# Print the first five rows of the DataFrame\n",
    "print(df.head())\n",
    "\n",
    "# Print the last three rows of the DataFrame\n",
    "print(df.tail(3))\n",
    "\n",
    "# View the summary statistics of the DataFrame\n",
    "print(df.describe())"
   ]
  },
  {
   "cell_type": "code",
   "execution_count": null,
   "id": "86159dff-a8d2-4944-88b5-a774db57bd21",
   "metadata": {},
   "outputs": [],
   "source": [
    "Q6.\n",
    "ANS-\n",
    "Both Pandas Series and DataFrame are mutable in nature, meaning that you can modify the contents of a Series or DataFrame after it has been created. However, Pandas Panel is immutable, which means that you cannot modify its contents once it has been created.\n",
    "but pands panel panel is not mutable so it is not modified."
   ]
  },
  {
   "cell_type": "code",
   "execution_count": 31,
   "id": "0767df66-b2e4-4cbb-ac4f-846ab98843c7",
   "metadata": {},
   "outputs": [
    {
     "name": "stdout",
     "output_type": "stream",
     "text": [
      "    Name  Age      City\n",
      "0   John   30  New York\n",
      "1   Jane   25    London\n",
      "2  David   28     Paris\n"
     ]
    }
   ],
   "source": [
    "# Q7.\n",
    "# ANS-\n",
    "names = pd.Series(['John', 'Jane', 'David'])\n",
    "ages = pd.Series([30, 25, 28])\n",
    "cities = pd.Series(['New York', 'London', 'Paris'])\n",
    "\n",
    "# Create a DataFrame using the three Series\n",
    "data = {'Name': names, 'Age': ages, 'City': cities}\n",
    "df = pd.DataFrame(data)\n",
    "print(df)"
   ]
  },
  {
   "cell_type": "code",
   "execution_count": null,
   "id": "a9f0e01c-44cd-46dd-85bd-10e461aebe7a",
   "metadata": {},
   "outputs": [],
   "source": []
  }
 ],
 "metadata": {
  "kernelspec": {
   "display_name": "Python 3 (ipykernel)",
   "language": "python",
   "name": "python3"
  },
  "language_info": {
   "codemirror_mode": {
    "name": "ipython",
    "version": 3
   },
   "file_extension": ".py",
   "mimetype": "text/x-python",
   "name": "python",
   "nbconvert_exporter": "python",
   "pygments_lexer": "ipython3",
   "version": "3.10.8"
  }
 },
 "nbformat": 4,
 "nbformat_minor": 5
}
