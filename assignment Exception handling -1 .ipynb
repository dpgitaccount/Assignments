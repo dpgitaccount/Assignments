{
 "cells": [
  {
   "cell_type": "code",
   "execution_count": 1,
   "id": "db31bcb4-5397-47a0-ad22-0a3b6341bff7",
   "metadata": {},
   "outputs": [],
   "source": [
    "# Q1.\n",
    "# Ans-\n",
    "# An exception is an event, which occurs during the execution of a program that disrupts the normal flow of the program's instructions. In general, when a Python script encounters a situation that it cannot cope with, it raises an exception. An exception is a Python object that represents an error.\n",
    "# When a Python script raises an exception, it must either handle the exception immediately otherwise it terminates and quits.\n",
    "\n",
    "# Difference b/w Exception and syntax error -\n",
    "# When in the runtime an error that occurs after passing the syntax test is called exception. For example, when we divide any number by zero then the ZeroDivisionError exception is raised, or when we import a module that does not exist then ImportError is raised.\n",
    "\n",
    "# When the proper syntax of the language is not followed then a syntax error is thrown.\n",
    "\n"
   ]
  },
  {
   "cell_type": "code",
   "execution_count": 2,
   "id": "1a889143-6131-44f5-bee7-f9250a2fb1f2",
   "metadata": {},
   "outputs": [
    {
     "name": "stdout",
     "output_type": "stream",
     "text": [
      "Error: cannot add an int and a str\n"
     ]
    }
   ],
   "source": [
    "# Q2.\n",
    "# Ans- \n",
    "# If an exception is not handled (with a catch block), the runtime system will abort the program (i.e. crash) and an exception message will print to the console.\n",
    "\n",
    "x = 5\n",
    "y = \"hello\"\n",
    "try:\n",
    "\tz = x + y\n",
    "except TypeError:\n",
    "\tprint(\"Error: cannot add an int and a str\")\n",
    "\n"
   ]
  },
  {
   "cell_type": "code",
   "execution_count": 4,
   "id": "5786b961-5d8d-4c9a-8f9f-741c2d7f63f3",
   "metadata": {},
   "outputs": [
    {
     "name": "stdout",
     "output_type": "stream",
     "text": [
      "Index Out of Bound.\n"
     ]
    }
   ],
   "source": [
    "# Q3.\n",
    "# ANS- \n",
    "# The try and except block in Python is used to catch and handle exceptions.\n",
    "try:\n",
    "    \n",
    "    even_numbers = [2,4,6,8]\n",
    "    print(even_numbers[5])\n",
    "\n",
    "except ZeroDivisionError:\n",
    "    print(\"Denominator cannot be 0.\")\n",
    "    \n",
    "except IndexError:\n",
    "    print(\"Index Out of Bound.\")\n",
    "\n"
   ]
  },
  {
   "cell_type": "code",
   "execution_count": 5,
   "id": "7ceb1f52-1a1a-46e6-be5a-38667ee195ac",
   "metadata": {},
   "outputs": [
    {
     "name": "stdout",
     "output_type": "stream",
     "text": [
      "Hello\n",
      "Nothing went wrong\n"
     ]
    }
   ],
   "source": [
    "# Q4.\n",
    "# ANS- \n",
    "# a. try and else-\n",
    "try:\n",
    "  print(\"Hello\")\n",
    "except:\n",
    "  print(\"Something went wrong\")\n",
    "else:\n",
    "  print(\"Nothing went wrong\")\n",
    "\n",
    "\n",
    "\n"
   ]
  },
  {
   "cell_type": "code",
   "execution_count": null,
   "id": "5b83ad9c-9109-4827-ad6a-ff1c9e963462",
   "metadata": {},
   "outputs": [],
   "source": [
    "# b. finally- \n",
    "try :\n",
    "    f = open(\"test3.txt\",'r')\n",
    "    f.write(\"write somthing\")\n",
    "finally :\n",
    "    print(\"finally we will execute itself in any situation\")"
   ]
  },
  {
   "cell_type": "code",
   "execution_count": 8,
   "id": "85ad9bbf-9010-44c9-8beb-21aebfdb631b",
   "metadata": {},
   "outputs": [],
   "source": [
    "# c. raise-\n",
    "s = 'apple'\n",
    "\n",
    "try:\n",
    "\tnum = int(s)\n",
    "except ValueError:\n",
    "\traise ValueError(\"String can't be changed into integer\")\n",
    "\n"
   ]
  },
  {
   "cell_type": "code",
   "execution_count": 8,
   "id": "0702b329-e779-49f5-935c-c1b8d63e80c9",
   "metadata": {},
   "outputs": [
    {
     "name": "stdin",
     "output_type": "stream",
     "text": [
      "Enter a number between positive integer:  12\n"
     ]
    }
   ],
   "source": [
    "# Q5.\n",
    "# ANS-\n",
    "# What are custom exception in Python?\n",
    "# Image result for what are the custom exceptions in Python\n",
    "# Python has many built-in exceptions with it, apart from these built-in list python has the capability to provide custom exceptions to the users. These custom exceptions are named as user-defined exceptions. Here the user-defined exceptions can be built defined by using a class declared for it.\n",
    "\n",
    "# Predefined Exceptions in Python:-\n",
    "# The exceptions which we handled in the examples till now are predefined ones. They are already available builtin exceptions. If any exception occurs, then Python Virtual Machine will handle those exceptions using the predefined exceptions. Examples of predefined exceptions are ZeroDivisionError, ValueError, NameError etc.\n",
    "\n",
    "# Custom Exceptions in Python:-\n",
    "# Sometimes based on project requirement, a programmer needs to create his own exceptions and raise explicitly for corresponding scenarios. Such types of exceptions are called customized Exceptions or Programmatic Exceptions. We can raise a custom exception by using the keyword ‘raise’.\n",
    "\n",
    "# Steps to create Custom Exception in python:-\n",
    "# The first step is to create a class for our exception. Since all exceptions are classes, the programmer is supposed to create his own exception as a class. The created class should be a child class of in-built “Exception” class.\n",
    "class NegativeError(Exception):\n",
    "   def __init__(self, data):\n",
    "       self.data = data\n",
    "\n",
    "try:\n",
    "   x = int(input(\"Enter a number between positive integer: \"))\n",
    "   if x < 0:\n",
    "       raise NegativeError(x)\n",
    "except NegativeError as e:\n",
    "   print(\"You provided {}. Please provide positive integer values only\".format(e))\n"
   ]
  },
  {
   "cell_type": "code",
   "execution_count": null,
   "id": "12a1272a-4de3-4a69-80cf-3d23672ec851",
   "metadata": {},
   "outputs": [],
   "source": [
    "# define Python user-defined exceptions\n",
    "class TooYoungException(Exception):\n",
    "   def __init__(self, arg):\n",
    "       self.msg=arg\n",
    "class TooOldException(Exception):\n",
    "   def __init__(self, arg):\n",
    "       self.msg=arg\n",
    "\n",
    "age=int(input(\"Enter Age:\"))\n",
    "if age>60:\n",
    "   raise TooOldException(\"Your age already crossed marriage age...no chance of getting marriage\")\n",
    "elif age<18:\n",
    "   raise TooYoungException(\"Plz wait some more time you will get best match soon!!!\")\n",
    "else:\n",
    "   print(\"You will get match details soon by email!!!\")\n",
    "\n"
   ]
  },
  {
   "cell_type": "code",
   "execution_count": null,
   "id": "f420e51e-4f39-467c-9311-8d7bc1aa3620",
   "metadata": {},
   "outputs": [],
   "source": []
  }
 ],
 "metadata": {
  "kernelspec": {
   "display_name": "Python 3 (ipykernel)",
   "language": "python",
   "name": "python3"
  },
  "language_info": {
   "codemirror_mode": {
    "name": "ipython",
    "version": 3
   },
   "file_extension": ".py",
   "mimetype": "text/x-python",
   "name": "python",
   "nbconvert_exporter": "python",
   "pygments_lexer": "ipython3",
   "version": "3.10.8"
  }
 },
 "nbformat": 4,
 "nbformat_minor": 5
}
