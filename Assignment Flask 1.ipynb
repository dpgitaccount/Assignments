{
 "cells": [
  {
   "cell_type": "code",
   "execution_count": null,
   "id": "3779bcb1-c6d9-4ddf-a773-19a6516429ae",
   "metadata": {},
   "outputs": [],
   "source": [
    "Q1.\n",
    "ANS-\n",
    "Flask is a web application framework written in Python. It was developed by Armin Ronacher, who led a team of international Python enthusiasts called Poocco. Flask is based on the Werkzeg WSGI toolkit and the Jinja2 template engine.Both are Pocco projects.\n",
    "\n",
    "WSGI:-\n",
    "The Web Server Gateway Interface (Web Server Gateway Interface, WSGI) has been used as a standard for Python web application development. WSGI is the specification of a common interface between web servers and web applications.\n",
    "\n",
    "Werkzeug:-\n",
    "Werkzeug is a WSGI toolkit that implements requests, response objects, and utility functions. This enables a web frame to be built on it. The Flask framework uses Werkzeg as one of its bases.\n",
    "\n",
    "jinja2:-\n",
    "jinja2 is a popular template engine for Python.A web template system combines a template with a specific data source to render a dynamic web page.\n",
    "\n",
    "This allows you to pass Python variables into HTML templates like this:\n",
    "\n",
    "<html>\n",
    "    <head>\n",
    "        <title>{{ title }}</title>\n",
    "    </head>\n",
    "    <body>\n",
    "        <h1>Hello {{ username }}</h1>\n",
    "    </body>\n",
    "</html>\n",
    "\n",
    "Advantages of Flask-\n",
    "1.Scalable. I would argue more scalable than monoliths if using modern methods. Today, applications are often running in containers or using cloud computing with auto-scaling. Applications do not typically “scale” themselves. The infrastructure scales. With a smaller application, it's easier to deploy instances across thousands of server easily to handle increased traffic/load. That’s part of the reason why Pinterest needed to migrate from Django to Flask as they grew to support more of a microservices pattern.\n",
    "\n",
    "2.Simpler Development. If you understand Python well, then you’ll be able to move around and contribute to a Flask application pretty easily. It’s less opinionated so fewer standards to learn.\n",
    "\n",
    "3.Flexibility. There are very few parts of Flask that cannot be easily and safely altered because of its simplicity and minimality.\n",
    "\n",
    "4.Performance. You can think about a micro framework being slightly more “low-level” than something like Django. There are fewer levels of abstraction between you and the database, the requests, the cache, etc. So performance is inherently better from the start."
   ]
  },
  {
   "cell_type": "code",
   "execution_count": null,
   "id": "5a4d0c11-61e3-443e-8c17-d35a8758a803",
   "metadata": {},
   "outputs": [],
   "source": [
    "Q2.\n",
    "ANS-\n",
    "from flask import Flask\n",
    "from flask import request\n",
    "\n",
    "app = Flask(__name__)\n",
    "\n",
    "@app.route(\"/\")\n",
    "def hello_world():\n",
    "    return \"<h1>Hello, World!</h1>\"\n",
    "if __name__==\"__main__\":\n",
    "     app.run(host=\"0.0.0.0\")\n",
    "     \n",
    "\n",
    "        "
   ]
  },
  {
   "cell_type": "markdown",
   "id": "550ab6e2-f319-4fd1-83a2-4b298946c20d",
   "metadata": {},
   "source": [
    "![](prakash.jpg)"
   ]
  },
  {
   "cell_type": "code",
   "execution_count": null,
   "id": "5d99b578-b509-4f28-9514-d1bee522da95",
   "metadata": {},
   "outputs": [],
   "source": [
    "Q3.\n",
    "ANS-\n",
    "App routing is used to map the specific URL with the associated function that is intended to perform some task. It is used to access some particular page like Flask Tutorial in the web application.\n",
    "\n",
    "In our first application, the URL ('/') is associated with the home function that returns a particular string displayed on the web page.\n",
    "\n",
    "In other words, we can say that if we visit the particular URL mapped to some particular function, the output of that function is rendered on the browser's screen.\n",
    " \n",
    "REASON for use app routing-\n",
    "App routing is used to map the specific URL with the associated function that is intended to perform some task. It is used to access some particular page like Flask Tutorial in the web application.\n"
   ]
  },
  {
   "cell_type": "code",
   "execution_count": null,
   "id": "1ed5462f-9f63-4ff3-8f6e-cbbfb16634e1",
   "metadata": {},
   "outputs": [],
   "source": [
    "Q4.\n",
    "ANS-\n",
    "\n",
    "from flask import Flask\n",
    "from flask import request\n",
    "\n",
    "app = Flask(__name__)\n",
    "\n",
    "\n",
    "1. @app.route(\"welcome\")\n",
    "def test():\n",
    "\n",
    "    return \"welcome to ABC corporation \n",
    "\n",
    "\n",
    "2. @app.route(\"/\")\n",
    "def test():\n",
    "\n",
    "    return \"Company Name: ABC Corporation, Location: India, contact details: 999-999-999\"\n",
    "\n",
    "if __name__==\"__main__\":\n",
    "     app.run(host=\"0.0.0.0\")\n",
    "\n"
   ]
  },
  {
   "cell_type": "markdown",
   "id": "97022f4b-61ac-48cc-a744-3ff0b6b21815",
   "metadata": {},
   "source": [
    "![](welcome.jpg)"
   ]
  },
  {
   "cell_type": "markdown",
   "id": "c4dd003b-1c59-45e4-a23f-7801c1dfeb8b",
   "metadata": {},
   "source": [
    "![](details.jpg)"
   ]
  },
  {
   "cell_type": "code",
   "execution_count": null,
   "id": "323bbb8b-07ea-4cbc-abdd-571d2389fe5b",
   "metadata": {},
   "outputs": [],
   "source": [
    "Q5.\n",
    "ANS-\n",
    "The url_for() function is used to build a URL to the specific function dynamically. The first argument is the name of the specified function, and then we can pass any number of keyword argument corresponding to the variable part of the URL.\n",
    "\n",
    "This function is useful in the sense that we can avoid hard-coding the URLs into the templates by dynamically building them using this function.\n",
    "\n",
    "Benefits of the Dynamic URL Building:-\n",
    "\n",
    "1.It avoids hard coding of the URLs.\n",
    "2.We can change the URLs dynamically instead of remembering the manually changed hard-coded URLs.\n",
    "3.URL building handles the escaping of special characters and Unicode data transparently.\n",
    "4.The generated paths are always absolute, avoiding unexpected behavior of relative paths in browsers.\n",
    "5.If your application is placed outside the URL root, for example, in /myapplication instead of /, url_for() properly handles that for you.\n",
    "\n",
    "from flask import Flask, redirect, url_for\n",
    "app = Flask(__name__)\n",
    "\n",
    "@app.route('/admin')\n",
    "def hello_admin():\n",
    "   return 'Hello Admin'\n",
    "\n",
    "@app.route('/guest/<guest>')\n",
    "def hello_guest(guest):\n",
    "   return 'Hello %s as Guest' % guest\n",
    "\n",
    "@app.route('/user/<name>')\n",
    "def hello_user(name):\n",
    "   if name =='admin':\n",
    "      return redirect(url_for('hello_admin'))\n",
    "   else:\n",
    "      return redirect(url_for('hello_guest',guest = name))\n",
    "\n",
    "if __name__ == '__main__':\n",
    "   app.run(debug = True)"
   ]
  }
 ],
 "metadata": {
  "kernelspec": {
   "display_name": "Python 3 (ipykernel)",
   "language": "python",
   "name": "python3"
  },
  "language_info": {
   "codemirror_mode": {
    "name": "ipython",
    "version": 3
   },
   "file_extension": ".py",
   "mimetype": "text/x-python",
   "name": "python",
   "nbconvert_exporter": "python",
   "pygments_lexer": "ipython3",
   "version": "3.10.8"
  }
 },
 "nbformat": 4,
 "nbformat_minor": 5
}
