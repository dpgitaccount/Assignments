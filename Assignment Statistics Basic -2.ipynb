{
 "cells": [
  {
   "cell_type": "code",
   "execution_count": null,
   "id": "7b16c101-b39f-405d-bbba-1ab9b92b3824",
   "metadata": {},
   "outputs": [],
   "source": [
    "Q1.\n",
    "ANS- \n",
    "The three measures of central tendency commonly used to describe the central or average value of a dataset are:\n",
    "\n",
    "1.Mean:-\n",
    "The mean is calculated by summing up all the values in the dataset and dividing the sum by the total number of values.\n",
    "It is the most commonly used measure of central tendency. \n",
    "The formula for the mean is:\n",
    "\n",
    "Mean = (Sum of all values) / (Total number of values)\n",
    "\n",
    "\n",
    "2.Median:-\n",
    "The median represents the middle value of a dataset when it is arranged in ascending or descending order.\n",
    "To calculate the median, the data points are first arranged in order, and then the middle value is identified. \n",
    "If there is an odd number of data points, the median is the middle value. If there is an even number of data points, the median is the average of the two middle values.\n",
    "\n",
    "3.Mode:- The mode refers to the value or values that appear most frequently in a dataset. \n",
    "Unlike the mean and median, the mode does not require any numerical calculations. \n",
    "A dataset can have one mode (unimodal), two modes (bimodal), or more than two modes (multimodal), depending on the frequency of values."
   ]
  },
  {
   "cell_type": "code",
   "execution_count": 25,
   "id": "ce042abe-08c5-44c0-846e-a8c8de9b3874",
   "metadata": {},
   "outputs": [],
   "source": [
    "Q2.\n",
    "ANS-\n",
    "Here the difference between mean, median, mode-\n",
    "\n",
    "Mean:- \n",
    "The mean is calculated by summing up all the values in the dataset and dividing the sum by the total number of values. \n",
    "It is influenced by every data point and is sensitive to extreme values.\n",
    "The mean is commonly used when the data is numerical and has a symmetrical distribution. \n",
    "It provides a measure of the average value in the dataset.\n",
    "\n",
    "example:-\n",
    "        if you have a dataset of exam scores, the mean can give you an idea of the typical performance of the students.\n",
    "\n",
    "    \n",
    "Median:- \n",
    "The median is the middle value of a dataset when it is arranged in ascending or descending order.\n",
    "To calculate the median, the data points are sorted, and the middle value is identified. \n",
    "The median is less affected by extreme values and is useful when dealing with skewed distributions or data with outliers. \n",
    "It provides a measure of the central value that divides the dataset into two equal parts.\n",
    "\n",
    "example:-\n",
    "       if you have a dataset of household incomes, the median can give you an understanding of the typical income level of the population.\n",
    "\n",
    "    \n",
    "Mode:-\n",
    "The mode refers to the value or values that appear most frequently in a dataset. \n",
    "Unlike the mean and median, the mode does not involve any numerical calculations. \n",
    "The mode is useful for categorical or discrete data and provides information about the most common or dominant category or value in the dataset. \n",
    "\n",
    "example:- if you have a dataset of eye colors, the mode can tell you which eye color is most prevalent in the population.\n",
    "\n",
    "\n",
    "These measures of central tendency are used to summarize and understand datasets. \n",
    "They provide different perspectives on the typical value, taking into account different aspects of the data distribution. \n",
    "The choice of measure depends on the type of data, the distribution of the data, and the specific question or analysis being performed. \n",
    "It is often recommended to use multiple measures to get a comprehensive understanding of the central tendency in a dataset.\n",
    "\n",
    "\n",
    "\n",
    "\n"
   ]
  },
  {
   "cell_type": "code",
   "execution_count": 10,
   "id": "7e9b9387-d1ce-41c7-afcf-72a279ceec8d",
   "metadata": {},
   "outputs": [],
   "source": [
    "# Q3.\n",
    "# ANS-\n",
    "import numpy as np\n",
    "from scipy import stats\n",
    "height_data =  [178,177,176,177,178.2,178,175,179,180,175,178.9,176.2,177,172.5,178,176.5]\n"
   ]
  },
  {
   "cell_type": "code",
   "execution_count": 11,
   "id": "53f6c2c2-4b49-4313-baf9-907e2164a51c",
   "metadata": {},
   "outputs": [
    {
     "data": {
      "text/plain": [
       "177.01875"
      ]
     },
     "execution_count": 11,
     "metadata": {},
     "output_type": "execute_result"
    }
   ],
   "source": [
    "np.mean(height_data)"
   ]
  },
  {
   "cell_type": "code",
   "execution_count": 12,
   "id": "f64da1fb-a912-450d-a568-235c47756690",
   "metadata": {},
   "outputs": [
    {
     "data": {
      "text/plain": [
       "177.0"
      ]
     },
     "execution_count": 12,
     "metadata": {},
     "output_type": "execute_result"
    }
   ],
   "source": [
    "np.median(height_data)"
   ]
  },
  {
   "cell_type": "code",
   "execution_count": 14,
   "id": "d1e67eb3-9490-4525-85f8-52655df6c16a",
   "metadata": {},
   "outputs": [
    {
     "name": "stderr",
     "output_type": "stream",
     "text": [
      "/tmp/ipykernel_102/2661021712.py:1: FutureWarning: Unlike other reduction functions (e.g. `skew`, `kurtosis`), the default behavior of `mode` typically preserves the axis it acts along. In SciPy 1.11.0, this behavior will change: the default value of `keepdims` will become False, the `axis` over which the statistic is taken will be eliminated, and the value None will no longer be accepted. Set `keepdims` to True or False to avoid this warning.\n",
      "  stats.mode(height_data)\n"
     ]
    },
    {
     "data": {
      "text/plain": [
       "ModeResult(mode=array([177.]), count=array([3]))"
      ]
     },
     "execution_count": 14,
     "metadata": {},
     "output_type": "execute_result"
    }
   ],
   "source": [
    "stats.mode(height_data)"
   ]
  },
  {
   "cell_type": "code",
   "execution_count": 15,
   "id": "a47c7b75-c2e9-409b-b45d-ec649cfcf7b0",
   "metadata": {},
   "outputs": [],
   "source": [
    "# Q4.\n",
    "# ANS-\n",
    "import numpy as np\n",
    "\n",
    "data = [178,177,176,177,178.2,178,175,179,180,175,178.9,176.2,177,172.5,178,176.5]\n"
   ]
  },
  {
   "cell_type": "code",
   "execution_count": 16,
   "id": "0f9a545d-1c2d-49f8-9c78-29c093e3e3dc",
   "metadata": {},
   "outputs": [
    {
     "data": {
      "text/plain": [
       "1.7885814036548633"
      ]
     },
     "execution_count": 16,
     "metadata": {},
     "output_type": "execute_result"
    }
   ],
   "source": [
    "np.std(data)"
   ]
  },
  {
   "cell_type": "code",
   "execution_count": 23,
   "id": "d0a38bbc-3ba2-4736-a13b-0e9ce9a92b20",
   "metadata": {},
   "outputs": [],
   "source": [
    "\"\"\"\"Q5.\n",
    "ANS-\n",
    "\n",
    "Measures of dispersion, such as range, variance, and standard deviation, are used to describe the spread or variability of a dataset. \n",
    "They provide information about how the data points are distributed around the measures of central tendency. \n",
    "\n",
    "1.Range:- \n",
    "The range is the simplest measure of dispersion and is calculated as the difference between the maximum and minimum values in a dataset.\n",
    "It provides an estimate of the spread of the entire dataset.\n",
    "\n",
    "example-  if you have a dataset of daily temperatures for a week, the range would give you the difference between the highest and lowest temperature, indicating the overall variability of temperatures during that period.\n",
    "\n",
    "2.Variance:- \n",
    "Variance is a more precise measure of dispersion that takes into account the deviation of each data point from the mean. \n",
    "It is calculated by taking the average of the squared differences between each data point and the mean. \n",
    "The variance provides an estimate of how much the data points deviate from the mean on average. \n",
    "However, it is expressed in squared units, which can be difficult to interpret directly.\n",
    "\n",
    "3.Standard Deviation:-\n",
    "The standard deviation is the most commonly used measure of dispersion.\n",
    "It is the square root of the variance and is expressed in the same units as the data.\n",
    "The standard deviation measures the average distance between each data point and the mean, providing a more intuitive measure of spread. \n",
    "It indicates the typical amount of variability in the dataset. \n",
    "\n",
    "example- if you have a dataset of test scores, the standard deviation can give you an idea of how much the individual scores deviate from the average score, providing a measure of the spread of performance.\n",
    "\n",
    "\n",
    "EXAMPLE-\"\"\"\n",
    "import numpy as np\n",
    "age_data = [20,25,28,29,40,30,56,67,85,66,90]\n",
    "\n",
    "\n"
   ]
  },
  {
   "cell_type": "code",
   "execution_count": 20,
   "id": "35af142c-b885-46e7-8f55-801e3a64c1c0",
   "metadata": {},
   "outputs": [
    {
     "name": "stdout",
     "output_type": "stream",
     "text": [
      "range: 70\n"
     ]
    }
   ],
   "source": [
    "# RANGE- \n",
    "data_range = max(age_data) - min(age_data)\n",
    "print(\"range:\", data_range)"
   ]
  },
  {
   "cell_type": "code",
   "execution_count": 21,
   "id": "8d4f831b-7ab9-4be8-a1b6-a986d893dc41",
   "metadata": {},
   "outputs": [
    {
     "data": {
      "text/plain": [
       "576.198347107438"
      ]
     },
     "execution_count": 21,
     "metadata": {},
     "output_type": "execute_result"
    }
   ],
   "source": [
    "# VARIENCE-\n",
    "np.var(age_data)"
   ]
  },
  {
   "cell_type": "code",
   "execution_count": 22,
   "id": "1b0177de-0184-4f8a-b41b-4c01160e4ecc",
   "metadata": {},
   "outputs": [
    {
     "data": {
      "text/plain": [
       "24.00413187573002"
      ]
     },
     "execution_count": 22,
     "metadata": {},
     "output_type": "execute_result"
    }
   ],
   "source": [
    "# STANDARD DEVIATION-\n",
    "np.std(age_data)"
   ]
  },
  {
   "cell_type": "code",
   "execution_count": null,
   "id": "c6d46d19-1c54-4ba9-8472-1efd8787d7d4",
   "metadata": {},
   "outputs": [],
   "source": [
    "Q6.\n",
    "ANS- \n",
    "\n",
    "A Venn diagram is a graphical representation used to show the relationships between different sets or groups of items.\n",
    "It consists of overlapping circles or ellipses, with each circle representing a set or category. \n",
    "The overlapping regions of the circles show the common elements or intersections between the sets.\n",
    "\n",
    "Venn diagrams are primarily used to visualize the relationships and similarities between sets or groups. \n",
    "They can help in understanding set theory, logical relationships, and data analysis. \n",
    "The size of the circles or the overlap areas can be adjusted to represent the relative sizes or proportions of the sets or categories being compared.\n",
    "\n",
    "\n",
    "Example- \n",
    "   A: Data scientist         B: Web developer\n",
    "\n",
    "     _______________\n",
    "    |      A        |\n",
    "    |    _______    |\n",
    "    |   |       |   |\n",
    "    |   |       |   |\n",
    "    |   |   ∩   |   |\n",
    "    |   |       |   |\n",
    "    |   |_______|   |\n",
    "    |      B        |\n",
    "    |_______________|\n"
   ]
  },
  {
   "cell_type": "code",
   "execution_count": null,
   "id": "94389bee-5b49-4dd5-9c06-33f3e32f8a7b",
   "metadata": {},
   "outputs": [],
   "source": [
    "Q7.\n",
    "A = (2,3,4,5,6,7) \n",
    "B = (0,2,6,8,10)\n",
    "ANS-\n",
    "\n",
    "(i) Intersection (A ∩ B):-\n",
    "    \n",
    "The intersection of two sets contains the elements that are common to both sets.\n",
    "A = (2, 3, 4, 5, 6, 7)\n",
    "B = (0, 2, 6, 8, 10)\n",
    "\n",
    "in intersection we identify the common elements in A and B:\n",
    "A ∩ B = (2, 6)\n",
    "    \n",
    "(ii) Union (A ⋃ B):-\n",
    "\n",
    "The union of two sets contains all the unique elements from both sets without duplication.\n",
    "A = (2, 3, 4, 5, 6, 7)\n",
    "B = (0, 2, 6, 8, 10)\n",
    "\n",
    "in union we combine all the unique elements from A and B:\n",
    "A ⋃ B = (0, 2, 3, 4, 5, 6, 7, 8, 10)"
   ]
  },
  {
   "cell_type": "code",
   "execution_count": null,
   "id": "f8794473-dea4-4d22-9cfa-2bef46a9772a",
   "metadata": {},
   "outputs": [],
   "source": [
    "Q8.\n",
    "ANS-\n",
    "\n",
    "Skewness is a measure that describes the asymmetry or lack of symmetry in the distribution of a dataset. \n",
    "It provides information about the shape of the data distribution. \n",
    "Skewness indicates whether the data is concentrated more on one side of the mean compared to the other side.\n",
    "\n",
    "There are 3 types of skewness-\n",
    "\n",
    "1.Positive Skewness (Right Skewness):-\n",
    "In a positively skewed distribution, the tail of the distribution extends to the right side, indicating that the majority of the data points are concentrated on the left side.\n",
    "The mean is usually greater than the median in a positively skewed distribution.\n",
    "\n",
    "2.Negative Skewness (Left Skewness):-\n",
    "In a negatively skewed distribution, the tail of the distribution extends to the left side, indicating that the majority of the data points are concentrated on the right side. \n",
    "The mean is typically less than the median in a negatively skewed distribution.\n",
    "\n",
    "3.Zero Skewness (Symmetrical Distribution):-\n",
    "In a symmetrical distribution, the data is evenly distributed around the mean, and there is no skewness present. \n",
    "The mean and median are equal in a symmetrical distribution.\n"
   ]
  },
  {
   "cell_type": "code",
   "execution_count": null,
   "id": "f56a31e6-d48c-4b45-b46f-b012a98c5319",
   "metadata": {},
   "outputs": [],
   "source": [
    "Q9.\n",
    "ANS-\n",
    "\n",
    "If a data distribution is right skewed, the median will typically be less than the mean.\n",
    "\n",
    "In a right-skewed distribution, the tail of the distribution extends towards the higher values. \n",
    "This means that there are relatively few data points with very high values that pull the mean towards the right. \n",
    "As a result, the mean tends to be larger than the median, which represents the middle value of the dataset.\n",
    "To visualize this, imagine a right-skewed distribution with a long tail on the right side. "
   ]
  },
  {
   "cell_type": "code",
   "execution_count": null,
   "id": "998e073f-8f1e-45ea-96c5-088d42eaf4f0",
   "metadata": {},
   "outputs": [],
   "source": [
    "Q10.\n",
    "ANS-\n",
    "\n",
    "Covariance and correlation are two measures used to quantify the relationship between variables in statistical analysis. \n",
    "While both covariance and correlation provide information about the direction and strength of the relationship, they differ in terms of scale and interpretability.\n",
    "\n",
    "Covariance:-\n",
    "\n",
    "Covariance measures the extent to which two variables vary together. \n",
    "It calculates the average of the products of the deviations of each variable from their respective means. \n",
    "\n",
    "formula for covariance between two variables X and Y is\n",
    "\n",
    "Cov(X, Y) = Σ[(X - μX) * (Y - μY)] / n\n",
    "\n",
    "Where X and Y are the variables.\n",
    "μX and μY are their respective means.\n",
    "and n is the number of data points.\n",
    "\n",
    "note:- \n",
    "Covariance can take any value, positive or negative, depending on the direction of the relationship.\n",
    "A positive covariance indicates a positive relationship, meaning that as one variable increases, the other tends to increase as well. \n",
    "A negative covariance indicates a negative relationship, where as one variable increases, the other tends to decrease.\n",
    "\n",
    "\n",
    "Correlation:-\n",
    "\n",
    "Correlation is a standardized measure that quantifies the strength and direction of the linear relationship between two variables. \n",
    "It is calculated by dividing the covariance by the product of the standard deviations of the variables. \n",
    "The formula for correlation between X and Y is:\n",
    "\n",
    "Corr(X, Y) = Cov(X, Y) / (σX * σY)\n",
    "\n",
    "Where X and Y are the variables, Cov(X, Y) is the covariance.\n",
    "and σX and σY are the standard deviations of X and Y respectively.\n",
    "\n",
    "note:-\n",
    "Correlation values range between -1 and 1.\n",
    "A correlation of 1 indicates a perfect positive linear relationship, -1 indicates a perfect negative linear relationship, and 0 indicates no linear relationship.\n",
    "\n",
    "note:- \n",
    "Correlation is a more interpretable measure because it is independent of the scale of the variables and provides information about the strength and direction of the linear association. \n",
    "It allows for meaningful comparisons between different datasets and variables.\n",
    "\n",
    "In statistical analysis, covariance and correlation are used to study relationships between variables. \n",
    "They help in understanding the dependence or independence of variables, identifying patterns, and making predictions.\n",
    "Correlation, in particular, is widely used for feature selection, assessing the strength of associations, and building predictive models in fields such as finance, economics, social sciences, and data analysis.\n",
    "\n",
    "\n",
    "\n",
    "\n",
    "\n",
    " "
   ]
  },
  {
   "cell_type": "code",
   "execution_count": null,
   "id": "2eb37cd8-e3a1-41e6-a873-992eb97c073e",
   "metadata": {},
   "outputs": [],
   "source": [
    "Q11.\n",
    "ANS-\n",
    "\n",
    "The formula for calculating the sample mean is:-\n",
    "\n",
    "Sample Mean = (Sum of all data points) / (Number of data points)\n",
    "\n",
    "To calculate the sample mean, we sum up all the data points in the dataset and divide the sum by the total number of data points.\n",
    "\n",
    "Example:-\n",
    "\n",
    "exam scores: [85, 90, 92, 78, 88]\n",
    "\n",
    "Sum up all the data points.\n",
    "85 + 90 + 92 + 78 + 88 = 433\n",
    "\n",
    "Determine the number of data points.\n",
    "The dataset has 5 data points.\n",
    "\n",
    "Sample Mean = 433 / 5 = 86.6\n",
    "the sample mean of the given dataset is 86.6.\n",
    "\n",
    "\n",
    "\n",
    "\n"
   ]
  },
  {
   "cell_type": "code",
   "execution_count": null,
   "id": "9c8db789-5da4-4ec6-928a-42c4bbc53f05",
   "metadata": {},
   "outputs": [],
   "source": [
    "Q12.\n",
    "ANS- \n",
    "In a normal distribution, there is a specific relationship between its measures of central tendency, namely the mean, median, and mode.\n",
    "\n",
    "1.Mean:- \n",
    "In a normal distribution, the mean is located at the center of the distribution. \n",
    "It represents the average or expected value of the data. \n",
    "The mean is equal to the median and mode in a perfectly symmetrical normal distribution.\n",
    "\n",
    "2.Median:-\n",
    "The median is the middle value in a dataset when it is sorted in ascending or descending order.\n",
    "In a normal distribution, the median is also located at the center of the distribution, just like the mean. \n",
    "Therefore, the median is equal to the mean in a perfectly symmetrical normal distribution.\n",
    "\n",
    "3.Mode:-\n",
    "The mode represents the most frequently occurring value(s) in a dataset.\n",
    "In a normal distribution, the mode is also located at the center of the distribution, coinciding with the mean and median. \n",
    "Therefore, the mode is equal to the mean in a perfectly symmetrical normal distribution."
   ]
  },
  {
   "cell_type": "code",
   "execution_count": null,
   "id": "0122c012-766f-4eb3-9102-6eb1980994ff",
   "metadata": {},
   "outputs": [],
   "source": [
    "Q13.\n",
    "ANS- \n",
    "\n",
    "Covariance and correlation are both measures used to assess the relationship between two variables, but they differ in their properties and interpretations.\n",
    "\n",
    "Covariance:-\n",
    "\n",
    "Covariance measures the extent to which two variables vary together. \n",
    "It indicates the direction (positive or negative) and the strength of the linear relationship between variables.\n",
    "\n",
    "formula for covariance between two variables X and Y is:\n",
    "\n",
    "Cov(X, Y) = Σ[(X - μX) * (Y - μY)] / n\n",
    "\n",
    "Where X and Y are the variables.\n",
    "μX and μY are their respective means.\n",
    "and n is the number of data points.\n",
    "\n",
    "Covariance can take any value, positive or negative. \n",
    "A positive covariance indicates a positive relationship, meaning that as one variable increases, the other tends to increase as well. \n",
    "A negative covariance indicates a negative relationship, where as one variable increases, the other tends to decrease. \n",
    "However, the scale of covariance is not standardized and depends on the units of measurement of the variables, making it difficult to interpret the magnitude of the relationship.\n",
    "\n",
    "Correlation:-\n",
    "    \n",
    "Correlation, on the other hand, is a standardized measure that quantifies the strength and direction of the linear relationship between two variables. \n",
    "It is calculated by dividing the covariance by the product of the standard deviations of the variables. \n",
    "\n",
    "formula for correlation between X and Y is:\n",
    "\n",
    "Corr(X, Y) = Cov(X, Y) / (σX * σY)\n",
    "\n",
    "Where X and Y are the variables.\n",
    "Cov(X, Y) is the covariance, and σX and σY are the standard deviations of X and Y, respectively.\n",
    "\n",
    "Correlation values range between -1 and 1.\n",
    "A correlation of 1 indicates a perfect positive linear relationship, -1 indicates a perfect negative linear relationship, and 0 indicates no linear relationship.\n",
    "\n",
    "Unlike covariance, correlation is independent of the scale of the variables, making it easier to compare relationships between different datasets and variables. \n",
    "Correlation provides more interpretable information about the strength and direction of the linear association between variables."
   ]
  },
  {
   "cell_type": "code",
   "execution_count": null,
   "id": "25251e78-55d1-4131-aee2-4155c912422e",
   "metadata": {},
   "outputs": [],
   "source": [
    "Q14.\n",
    "ANS-\n",
    "Outliers can significantly affect measures of central tendency and dispersion, potentially leading to distorted or misleading summaries of the data. \n",
    "\n",
    "1.Measures of Central Tendency:-\n",
    "    \n",
    "Mean:-\n",
    "Outliers can have a substantial influence on the mean. \n",
    "Since the mean is sensitive to extreme values, even a single outlier can significantly shift its value. The mean may no longer represent the typical value of the majority of the data.\n",
    "\n",
    "\n",
    "Median:-\n",
    "The median is less affected by outliers since it only considers the middle value(s) of the data. \n",
    "Therefore, the median is a more robust measure of central tendency in the presence of outliers.\n",
    "\n",
    "Mode:-\n",
    "The mode is not significantly impacted by outliers since it represents the most frequent value(s). \n",
    "Outliers do not directly affect the mode unless they become the most frequent value(s) themselves.\n",
    "\n",
    "Example: Consider the following dataset of exam scores: [78, 82, 85, 88, 90, 98, 99]. \n",
    "         Now, add an outlier of 50 to the dataset:      [78, 82, 85, 88, 90, 98, 99, 50].\n",
    "\n",
    "\n",
    "Mean:-\n",
    "Without the outlier, the mean is 88.29. \n",
    "When the outlier is included, the mean drops to 82.5, which is significantly lower due to the influence of the outlier.\n",
    "\n",
    "Median:-\n",
    "The median is unaffected by the outlier, remaining at 88. It represents the middle value, which remains unchanged regardless of the presence of outliers.\n",
    "\n",
    "Mode:-\n",
    "The mode is not affected by the outlier since none of the values are repeated. It remains as \"no mode\" or \"multimodal\" depending on how modes are defined.\n",
    "\n",
    "Measures of Dispersion:-\n",
    "\n",
    "Range:-\n",
    "Outliers can significantly expand the range by introducing extreme values. \n",
    "The range becomes wider and does not accurately reflect the spread of the majority of the data.\n",
    "\n",
    "Variance and Standard Deviation:-\n",
    "Outliers can inflate the variance and standard deviation. \n",
    "These measures are influenced by the deviations of individual values from the mean.\n",
    "Since outliers can have large deviations from the mean, they contribute to larger variances and standard deviations.\n",
    "\n",
    "Example: Continuing with the previous example, let's examine the effect of the outlier on the measures of dispersion.\n",
    "\n",
    "Range:-\n",
    "Without the outlier, the range is 21 (99 - 78). \n",
    "When the outlier is included, the range increases to 49 (99 - 50). \n",
    "The outlier expands the range significantly.\n",
    "\n",
    "Variance and Standard Deviation:-\n",
    "Without the outlier, the variance is 58.81,and the standard deviation is 7.67. \n",
    "When the outlier is included, the variance increases to 594.5, and the standard deviation increases to 24.38. \n",
    "The outlier inflates both measures due to its large deviation from the mean."
   ]
  },
  {
   "cell_type": "code",
   "execution_count": null,
   "id": "7b6cc569-ab89-4586-b0b3-f80bfdcce7ed",
   "metadata": {},
   "outputs": [],
   "source": []
  },
  {
   "cell_type": "code",
   "execution_count": null,
   "id": "f088b79a-5f57-4ec4-a2e9-a25e128fd8bd",
   "metadata": {},
   "outputs": [],
   "source": []
  },
  {
   "cell_type": "code",
   "execution_count": null,
   "id": "871d226f-50a6-4f91-9697-bd623005b3a1",
   "metadata": {},
   "outputs": [],
   "source": []
  }
 ],
 "metadata": {
  "kernelspec": {
   "display_name": "Python 3 (ipykernel)",
   "language": "python",
   "name": "python3"
  },
  "language_info": {
   "codemirror_mode": {
    "name": "ipython",
    "version": 3
   },
   "file_extension": ".py",
   "mimetype": "text/x-python",
   "name": "python",
   "nbconvert_exporter": "python",
   "pygments_lexer": "ipython3",
   "version": "3.10.8"
  }
 },
 "nbformat": 4,
 "nbformat_minor": 5
}
