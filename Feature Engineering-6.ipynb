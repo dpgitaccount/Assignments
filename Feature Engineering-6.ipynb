{
 "cells": [
  {
   "cell_type": "code",
   "execution_count": 1,
   "id": "57d8e203-a1a2-428a-b702-2d31a0c56678",
   "metadata": {},
   "outputs": [
    {
     "name": "stdout",
     "output_type": "stream",
     "text": [
      "Pearson Correlation Coefficient: 0.9715356729059884\n"
     ]
    }
   ],
   "source": [
    "# Q1. Pearson correlation coefficient is a measure of the linear relationship between two variables. Suppose\n",
    "# you have collected data on the amount of time students spend studying for an exam and their final exam\n",
    "# scores. Calculate the Pearson correlation coefficient between these two variables and interpret the result.\n",
    "\n",
    "# ANS-\n",
    "\n",
    "import numpy as np\n",
    "\n",
    "# Sample data: time spent studying and corresponding exam scores\n",
    "time_spent = [10, 12, 8, 15, 6, 9, 11, 13, 7, 14]\n",
    "exam_scores = [85, 88, 78, 92, 70, 82, 87, 90, 75, 93]\n",
    "\n",
    "# the Pearson correlation coefficient\n",
    "correlation_coefficient = np.corrcoef(time_spent, exam_scores)[0, 1]\n",
    "\n",
    "print(\"Pearson Correlation Coefficient:\", correlation_coefficient)\n"
   ]
  },
  {
   "cell_type": "code",
   "execution_count": 2,
   "id": "784da3c2-7b20-4b16-8481-a3b7ad9431e2",
   "metadata": {},
   "outputs": [
    {
     "name": "stdout",
     "output_type": "stream",
     "text": [
      "Spearman's Rank Correlation Coefficient: 0.7956694479548092\n"
     ]
    }
   ],
   "source": [
    "# Q2. Spearman's rank correlation is a measure of the monotonic relationship between two variables.\n",
    "# Suppose you have collected data on the amount of sleep individuals get each night and their overall job\n",
    "# satisfaction level on a scale of 1 to 10. Calculate the Spearman's rank correlation between these two\n",
    "# variables and interpret the result.\n",
    "\n",
    "# ANS-\n",
    "\n",
    "\n",
    "import scipy.stats\n",
    "\n",
    "# Sample data: amount of sleep and corresponding job satisfaction levels\n",
    "amount_of_sleep = [7, 6, 8, 5, 6, 7, 9, 4, 8, 5]\n",
    "job_satisfaction = [8, 5, 7, 4, 6, 9, 8, 3, 7, 6]\n",
    "\n",
    "# the Spearman's rank correlation coefficient\n",
    "spearman_corr, _ = scipy.stats.spearmanr(amount_of_sleep, job_satisfaction)\n",
    "\n",
    "print(\"Spearman's Rank Correlation Coefficient:\", spearman_corr)\n"
   ]
  },
  {
   "cell_type": "code",
   "execution_count": 3,
   "id": "2326f136-e2df-4bde-bcd5-f9821d268559",
   "metadata": {},
   "outputs": [
    {
     "name": "stdout",
     "output_type": "stream",
     "text": [
      "Pearson Correlation Coefficient: 0.978044016532991\n",
      "Spearman's Rank Correlation Coefficient: 0.9845627179099354\n"
     ]
    }
   ],
   "source": [
    "# Q3. Suppose you are conducting a study to examine the relationship between the number of hours of\n",
    "# exercise per week and body mass index (BMI) in a sample of adults. You collected data on both variables\n",
    "# for 50 participants. Calculate the Pearson correlation coefficient and the Spearman's rank correlation\n",
    "# between these two variables and compare the results.\n",
    "\n",
    "# ANS-\n",
    "\n",
    "\n",
    "import numpy as np\n",
    "import scipy.stats\n",
    "\n",
    "# Sample data: number of hours of exercise per week and corresponding BMI values\n",
    "hours_of_exercise = [3, 5, 2, 4, 6, 1, 2, 4, 3, 5,\n",
    "                     1, 1, 6, 3, 2, 4, 5, 2, 3, 4,\n",
    "                     5, 1, 2, 3, 4, 6, 1, 2, 3, 5,\n",
    "                     4, 1, 3, 5, 2, 6, 2, 4, 1, 3,\n",
    "                     5, 2, 3, 6, 1, 4, 5, 2, 3, 4]\n",
    "\n",
    "bmi_values = [24.5, 28.2, 23.1, 26.4, 29.8, 21.7, 23.5, 27.0, 25.2, 27.8,\n",
    "              21.1, 19.6, 29.7, 25.6, 22.2, 26.8, 28.1, 23.4, 25.3, 27.2,\n",
    "              28.6, 20.9, 22.7, 24.0, 25.8, 29.3, 19.5, 22.9, 24.1, 28.0,\n",
    "              25.7, 20.2, 23.9, 27.6, 21.8, 29.2, 23.6, 26.9, 20.3, 25.1,\n",
    "              27.4, 22.6, 24.8, 29.5, 20.7, 26.3, 28.7, 22.4, 25.5, 26.0]\n",
    "\n",
    "# Pearson correlation coefficient\n",
    "pearson_corr = np.corrcoef(hours_of_exercise, bmi_values)[0, 1]\n",
    "\n",
    "# Spearman's rank correlation coefficient\n",
    "spearman_corr, _ = scipy.stats.spearmanr(hours_of_exercise, bmi_values)\n",
    "\n",
    "print(\"Pearson Correlation Coefficient:\", pearson_corr)\n",
    "print(\"Spearman's Rank Correlation Coefficient:\", spearman_corr)\n",
    "\n",
    "\n",
    "COMPARISION--\n",
    "\n",
    "The Pearson correlation coefficient measures the linear relationship between two variables. \n",
    "It assumes that the relationship between the variables is linear. \n",
    "The Spearman's rank correlation coefficient, on the other hand, measures the monotonic relationship between the variables, which means it captures any type of monotonic relationship, whether it's linear or not.\n",
    "\n",
    "If the Pearson correlation coefficient and the Spearman's rank correlation coefficient are both close to 1, it suggests a strong positive relationship between the variables, whether linear or monotonic. \n",
    "If both are close to -1, it suggests a strong negative relationship. If the Pearson coefficient is close to 0 and the Spearman coefficient is not, it might indicate a non-linear but monotonic relationship. \n",
    "If both coefficients are close to 0, it suggests little to no relationship."
   ]
  },
  {
   "cell_type": "code",
   "execution_count": 4,
   "id": "fe4c276c-503c-44fb-9b6b-bd20a1b99048",
   "metadata": {},
   "outputs": [
    {
     "name": "stdout",
     "output_type": "stream",
     "text": [
      "Pearson Correlation Coefficient: -0.3152963125472329\n"
     ]
    }
   ],
   "source": [
    "# Q4. A researcher is interested in examining the relationship between the number of hours individuals\n",
    "# spend watching television per day and their level of physical activity. The researcher collected data on\n",
    "# both variables from a sample of 50 participants. Calculate the Pearson correlation coefficient between\n",
    "# these two variables.\n",
    "\n",
    "# ANS--\n",
    "\n",
    "\n",
    "import numpy as np\n",
    "\n",
    "# Sample data: number of hours watching TV per day and corresponding level of physical activity\n",
    "tv_hours = [2, 3, 4, 5, 1, 2, 3, 4, 5, 1,\n",
    "            3, 4, 2, 1, 5, 3, 2, 4, 1, 5,\n",
    "            4, 3, 2, 1, 5, 4, 3, 2, 1, 5,\n",
    "            2, 3, 4, 5, 1, 2, 3, 4, 5, 1,\n",
    "            3, 4, 2, 1, 5, 3, 2, 4, 1, 5]\n",
    "\n",
    "activity_level = [2, 1, 1, 3, 4, 2, 1, 1, 3, 4,\n",
    "                  1, 1, 2, 4, 3, 1, 2, 1, 4, 3,\n",
    "                  3, 2, 4, 1, 1, 3, 2, 4, 1, 1,\n",
    "                  2, 1, 1, 3, 4, 2, 1, 1, 3, 4,\n",
    "                  1, 1, 2, 4, 3, 1, 2, 1, 4, 3]\n",
    "\n",
    "# the Pearson correlation coefficient\n",
    "pearson_corr = np.corrcoef(tv_hours, activity_level)[0, 1]\n",
    "\n",
    "print(\"Pearson Correlation Coefficient:\", pearson_corr)\n"
   ]
  },
  {
   "cell_type": "code",
   "execution_count": 5,
   "id": "1574044a-3c67-4249-b683-c79051acdd59",
   "metadata": {},
   "outputs": [
    {
     "name": "stdout",
     "output_type": "stream",
     "text": [
      "Mean Age: 30.333333333333332\n",
      "Mode Preference: Coke\n"
     ]
    }
   ],
   "source": [
    "# Q5. A survey was conducted to examine the relationship between age and preference for a particular\n",
    "# brand of soft drink. The survey results are shown below:\n",
    "   \n",
    "# Age(Years)\n",
    "# 25 Coke\n",
    "# 42 Pepsi\n",
    "# 37\n",
    "# 19\n",
    "# 31\n",
    "# 28\n",
    "# Mountain dew\n",
    "# Coke\n",
    "# Pepsi\n",
    "# Coke\n",
    "# Soft drink Preference\n",
    "\n",
    "# ANS--\n",
    "\n",
    "\n",
    "import pandas as pd\n",
    "import numpy as np\n",
    "\n",
    "# Creating a DataFrame with the provided data\n",
    "data = {\n",
    "    'Age': [25, 42, 37, 19, 31, 28],\n",
    "    'Preference': ['Coke', 'Pepsi', 'Mountain Dew', 'Coke', 'Pepsi', 'Coke']\n",
    "}\n",
    "\n",
    "df = pd.DataFrame(data)\n",
    "\n",
    "# Calculate the mean age\n",
    "mean_age = df['Age'].mean()\n",
    "\n",
    "# Calculate the mode of the preferences\n",
    "mode_preference = df['Preference'].mode()[0]\n",
    "\n",
    "print(\"Mean Age:\", mean_age)\n",
    "print(\"Mode Preference:\", mode_preference)\n"
   ]
  },
  {
   "cell_type": "code",
   "execution_count": 6,
   "id": "938549df-dcf4-4a27-8f55-fe35656e1c45",
   "metadata": {},
   "outputs": [
    {
     "name": "stdout",
     "output_type": "stream",
     "text": [
      "Pearson Correlation Coefficient: 0.9510909478232827\n"
     ]
    }
   ],
   "source": [
    "# Q6. A company is interested in examining the relationship between the number of sales calls made per day\n",
    "# and the number of sales made per week. The company collected data on both variables from a sample of\n",
    "# 30 sales representatives. Calculate the Pearson correlation coefficient between these two variables.\n",
    "\n",
    "\n",
    "# ANS--\n",
    "\n",
    "\n",
    "import numpy as np\n",
    "\n",
    "# Sample data: number of sales calls per day and corresponding number of sales per week\n",
    "sales_calls_per_day = [20, 15, 30, 25, 18, 22, 28, 16, 19, 24,\n",
    "                       29, 23, 27, 21, 17, 14, 26, 31, 33, 12,\n",
    "                       20, 22, 19, 28, 24, 15, 32, 26, 18, 21]\n",
    "\n",
    "sales_per_week = [5, 4, 8, 6, 5, 7, 9, 4, 6, 7,\n",
    "                  8, 6, 9, 7, 5, 4, 7, 9, 10, 3,\n",
    "                  5, 6, 5, 9, 8, 4, 10, 8, 5, 6]\n",
    "\n",
    "# the Pearson correlation coefficient\n",
    "pearson_corr = np.corrcoef(sales_calls_per_day, sales_per_week)[0, 1]\n",
    "\n",
    "print(\"Pearson Correlation Coefficient:\", pearson_corr)\n"
   ]
  },
  {
   "cell_type": "code",
   "execution_count": null,
   "id": "2161eb6a-d20c-47a3-9aee-af32ecb0b638",
   "metadata": {},
   "outputs": [],
   "source": []
  }
 ],
 "metadata": {
  "kernelspec": {
   "display_name": "Python 3 (ipykernel)",
   "language": "python",
   "name": "python3"
  },
  "language_info": {
   "codemirror_mode": {
    "name": "ipython",
    "version": 3
   },
   "file_extension": ".py",
   "mimetype": "text/x-python",
   "name": "python",
   "nbconvert_exporter": "python",
   "pygments_lexer": "ipython3",
   "version": "3.10.8"
  }
 },
 "nbformat": 4,
 "nbformat_minor": 5
}
