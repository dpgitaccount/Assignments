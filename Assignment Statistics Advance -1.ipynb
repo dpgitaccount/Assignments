{
 "cells": [
  {
   "cell_type": "code",
   "execution_count": null,
   "id": "b191bd8f-d8f6-4015-9812-837c9e147ad9",
   "metadata": {},
   "outputs": [],
   "source": [
    "Q1.\n",
    "ANS-\n",
    "The Probability Density Function (PDF) is a fundamental concept in probability theory and statistics. \n",
    "It describes the probability distribution of a continuous random variable.\n",
    "\n",
    "For a continuous random variable X, the PDF, denoted as f(x), gives the probability that X takes on a specific value within a given interval. \n",
    "The PDF is defined such that the area under the curve represents the probability of X falling within that interval.\n",
    "\n",
    "Mathematically, the PDF :-\n",
    "\n",
    "1.Non-negativity:-\n",
    "The PDF is always non-negative, meaning f(x) ≥ 0 for all values of x.\n",
    "\n",
    "2.Total probability: The integral of the PDF over the entire range of the random variable is equal to 1. In other words, ∫f(x)dx = 1, where the integral is taken over the entire range of x.\n",
    "\n",
    "3.Probability interpretation: The probability of X falling within a particular interval [a, b] can be calculated by integrating the PDF over that interval: P(a ≤ X ≤ b) = ∫[a,b]f(x)dx.\n",
    "\n",
    "The PDF provides valuable information about the shape and characteristics of a probability distribution.\n",
    "It can be used to calculate various statistical properties such as mean, variance, and percentiles."
   ]
  },
  {
   "cell_type": "code",
   "execution_count": null,
   "id": "3df4de44-ff54-4b1a-9caa-4e1f851febb2",
   "metadata": {},
   "outputs": [],
   "source": [
    "Q2.\n",
    "ANS-\n",
    "Some important types of probability distributions are-\n",
    "\n",
    "1.Uniform Distribution:-\n",
    "The uniform distribution is characterized by a constant probability over a finite range.\n",
    "In this distribution, all outcomes within the range are equally likely. \n",
    "\n",
    "The PDF is a horizontal line, indicating equal probabilities for all values.\n",
    "\n",
    "2.Normal Distribution (Gaussian Distribution):-\n",
    "The normal distribution is one of the most widely used distributions in statistics. \n",
    "It is characterized by a symmetric bell-shaped curve. \n",
    "Many natural phenomena tend to follow a normal distribution. \n",
    "\n",
    "The PDF of the normal distribution is defined by its mean (μ) and standard deviation (σ).\n",
    "\n",
    "3.Binomial Distribution:-\n",
    "The binomial distribution is used to model the probability of obtaining a certain number of successes in a fixed number of independent Bernoulli trials.\n",
    "It is characterized by two parameters: the number of trials (n) and the probability of success (p) in each trial. \n",
    "\n",
    "The PDF of the binomial distribution gives the probability of achieving each possible number of successes.\n",
    "\n",
    "4.Poisson Distribution:-\n",
    "The Poisson distribution is used to model the probability of a certain number of events occurring within a fixed interval of time or space. \n",
    "It is commonly used to describe rare events. \n",
    "The Poisson distribution is characterized by a single parameter, λ (lambda), which represents the average rate of events. \n",
    "\n",
    "The PDF gives the probability of observing each possible number of events.\n",
    "\n",
    "5.Exponential Distribution:-\n",
    "The exponential distribution is often used to model the time between events in a Poisson process.\n",
    "It is characterized by a constant hazard rate, which means the probability of an event occurring is constant over time. \n",
    "\n",
    "The PDF of the exponential distribution is determined by the rate parameter (λ), which represents the average rate of events."
   ]
  },
  {
   "cell_type": "code",
   "execution_count": 2,
   "id": "60977cdd-6bc6-4807-b88b-a9dc3eecf03e",
   "metadata": {},
   "outputs": [
    {
     "name": "stdout",
     "output_type": "stream",
     "text": [
      "The PDF at x = 1.5 is 0.1295\n"
     ]
    }
   ],
   "source": [
    "# Q3.\n",
    "# ANS-\n",
    "\n",
    "import math\n",
    "\n",
    "def normal_pdf(x, mean, std_dev):\n",
    "    coefficient = 1 / (std_dev * math.sqrt(2 * math.pi))\n",
    "    exponent = -((x - mean) ** 2) / (2 * (std_dev ** 2))\n",
    "    pdf = coefficient * math.exp(exponent)\n",
    "    return pdf\n",
    "\n",
    "mean = 0\n",
    "std_dev = 1\n",
    "x = 1.5\n",
    "pdf_value = normal_pdf(x, mean, std_dev)\n",
    "print(f\"The PDF at x = {x} is {pdf_value:.4f}\")\n"
   ]
  },
  {
   "cell_type": "code",
   "execution_count": null,
   "id": "f7ef73cb-0cac-49f2-8cba-f6a36d4317e9",
   "metadata": {},
   "outputs": [],
   "source": [
    "Q4.\n",
    "ANS-\n",
    "\n",
    "The main properties of bionomial distribution are-\n",
    "\n",
    "1.Fixed Number of Trials:-\n",
    "The binomial distribution models a fixed number of independent trials, denoted as \"n.\"\n",
    "\n",
    "2.Two Possible Outcomes:-\n",
    "Each trial in the binomial distribution can have two possible outcomes: success or failure.\n",
    "\n",
    "3.Constant Probability:- The probability of success, denoted as \"p,\" remains constant for each trial.\n",
    "\n",
    "4.Independence:-\n",
    "The trials are assumed to be independent of each other.\n",
    "\n",
    "5.Discrete Distribution:-\n",
    "The binomial distribution is a discrete probability distribution, meaning it is defined for a finite number of discrete outcomes (0, 1, 2, ..., n).\n",
    "\n",
    "EXAMPLE -\n",
    "\n",
    "1.Coin Flipping:-\n",
    "Consider flipping a fair coin multiple times. \n",
    "Each flip has two possible outcomes: heads (success) or tails (failure). \n",
    "If you want to calculate the probability of getting a certain number of heads in a fixed number of flips, the binomial distribution can be used.\n",
    "\n",
    "2.Quality Control:-\n",
    "Suppose a manufacturing company inspects a sample of products to determine the number of defective items. \n",
    "Each product is either defective (success) or non-defective (failure).\n",
    "The binomial distribution can be employed to calculate the probability of obtaining a specific number of defective items in the sample.\n"
   ]
  },
  {
   "cell_type": "code",
   "execution_count": 4,
   "id": "13ccc254-4de5-4929-bb9a-e7264575a73a",
   "metadata": {},
   "outputs": [
    {
     "data": {
      "image/png": "[encoded data removed]",
      "text/plain": [
       "<Figure size 640x480 with 1 Axes>"
      ]
     },
     "metadata": {},
     "output_type": "display_data"
    }
   ],
   "source": [
    "# Q5.\n",
    "# ANS-\n",
    "\n",
    "import numpy as np\n",
    "import matplotlib.pyplot as plt\n",
    "\n",
    "# parameters\n",
    " # Sample size\n",
    "n = 1000 \n",
    "# Probability of success\n",
    "p = 0.4  \n",
    "\n",
    "# Generate the random sample\n",
    "sample = np.random.binomial(n, p, size=n)\n",
    "\n",
    "# Plot the histogram\n",
    "plt.hist(sample, bins='auto', color='blue', alpha=0.7)\n",
    "plt.xlabel('Number of Successes')\n",
    "plt.ylabel('probability Frequency')\n",
    "plt.title('Binomial Distribution Histogram')\n",
    "plt.grid(True)\n",
    "plt.show()\n"
   ]
  },
  {
   "cell_type": "code",
   "execution_count": 6,
   "id": "54b6b57f-7a4e-43cd-9517-fee573285d12",
   "metadata": {},
   "outputs": [
    {
     "name": "stdout",
     "output_type": "stream",
     "text": [
      "The CDF at x = 5 is 0.9161\n"
     ]
    }
   ],
   "source": [
    "# Q6.\n",
    "# ANS-\n",
    "\n",
    "import math\n",
    "\n",
    "def poisson_cdf(x, mean):\n",
    "    cdf = 0.0\n",
    "    for i in range(x + 1):\n",
    "        cdf += math.exp(-mean) * (mean ** i) / math.factorial(i)\n",
    "    return cdf\n",
    "\n",
    "# Assumed values-\n",
    "mean = 3\n",
    "x = 5\n",
    "cdf_value = poisson_cdf(x, mean)\n",
    "print(f\"The CDF at x = {x} is {cdf_value:.4f}\")\n"
   ]
  },
  {
   "cell_type": "code",
   "execution_count": null,
   "id": "532975d2-ff9a-4547-bb37-0473a80e8307",
   "metadata": {},
   "outputs": [],
   "source": [
    "Q7.\n",
    "ANS-\n",
    "The binomial distribution and the Poisson distribution are both probability distributions that are used to model discrete random variables. \n",
    "\n",
    "1.Assumptions:-\n",
    "\n",
    "--Binomial Distribution:-\n",
    "The binomial distribution assumes a fixed number of independent trials, each with two possible outcomes (success or failure). \n",
    "The probability of success remains constant for each trial, and the trials are assumed to be independent.\n",
    "\n",
    "--Poisson Distribution:-\n",
    "The Poisson distribution assumes an event happening randomly over a continuous interval of time or space.\n",
    "It does not require a fixed number of trials or two possible outcomes. \n",
    "The events are assumed to occur independently, but the average rate of events remains constant.\n",
    "\n",
    "2.Nature of the Random Variable:\n",
    "    \n",
    "--Binomial Distribution:- \n",
    "The binomial distribution models the number of successes (or failures) out of a fixed number of trials.\n",
    "It is discrete and takes on integer values.\n",
    "\n",
    "--Poisson Distribution:-\n",
    "The Poisson distribution models the number of events that occur within a given interval. \n",
    "It is also discrete and takes on integer values.\n",
    "\n",
    "3.Parameters:\n",
    "    \n",
    "--Binomial Distribution:-\n",
    "The binomial distribution is characterized by two parameters: the number of trials (n) and the probability of success in each trial (p).\n",
    "\n",
    "--Poisson Distribution:-\n",
    "The Poisson distribution is characterized by a single parameter: the average rate of events (λ).\n",
    "\n",
    "4.Applications:-\n",
    "\n",
    "--Binomial Distribution:-\n",
    "The binomial distribution is commonly used to model scenarios with a fixed number of independent trials, such as flipping a coin, conducting quality control inspections, or counting the number of successes in a fixed number of experiments.\n",
    "\n",
    "--Poisson Distribution:-\n",
    "The Poisson distribution is often used to model events that occur randomly over time or space, such as the number of phone calls received at a call center within a fixed time period, the number of accidents at an intersection in a given day, or the number of emails received per hour."
   ]
  },
  {
   "cell_type": "code",
   "execution_count": 7,
   "id": "87229378-e33a-460e-ae04-3156760207e0",
   "metadata": {},
   "outputs": [
    {
     "name": "stdout",
     "output_type": "stream",
     "text": [
      "Sample Mean: 4.866\n",
      "Sample Variance: 4.592043999999999\n"
     ]
    }
   ],
   "source": [
    "# Q8.\n",
    "# ANS-\n",
    "\n",
    "import numpy as np\n",
    "\n",
    "# parameters\n",
    "sample_size = 1000\n",
    "mean = 5\n",
    "\n",
    "# Generating random sample\n",
    "sample = np.random.poisson(mean, size=sample_size)\n",
    "\n",
    "# Calculate the sample mean and variance\n",
    "sample_mean = np.mean(sample)\n",
    "sample_variance = np.var(sample)\n",
    "\n",
    "print(\"Sample Mean:\", sample_mean)\n",
    "print(\"Sample Variance:\", sample_variance)\n"
   ]
  },
  {
   "cell_type": "code",
   "execution_count": null,
   "id": "adb09724-403b-405a-94ea-cbe87f79c323",
   "metadata": {},
   "outputs": [],
   "source": [
    "Q9.\n",
    "ANS-\n",
    "\n",
    "Binomial Distribution:-\n",
    "\n",
    "--Mean:-\n",
    "In a binomial distribution, the mean (μ) is calculated as the product of the number of trials (n) and the probability of success (p).\n",
    "\n",
    "Mathematically, μ = n * p.\n",
    "\n",
    "--Variance:-\n",
    "The variance (σ^2) of a binomial distribution is calculated as the product of the number of trials (n), the probability of success (p), and the probability of failure (q = 1 - p). \n",
    "\n",
    "Mathematically, σ^2 = n * p * q.\n",
    "\n",
    "The relationship between the mean and variance in a binomial distribution is given by the equation σ^2 = n * p * (1 - p). \n",
    "As p approaches 0 or 1, the variance decreases and becomes smaller than the mean. \n",
    "When p = 0.5, the variance is maximized and equal to n/4.\n",
    "\n",
    "\n",
    "Poisson Distribution:-\n",
    "\n",
    "--Mean:-\n",
    "In a Poisson distribution, the mean (μ) is equal to the parameter of the distribution, denoted as λ (lambda). \n",
    "\n",
    "Mathematically, μ = λ.\n",
    "\n",
    "--Variance:-\n",
    "The variance (σ^2) of a Poisson distribution is also equal to the parameter λ.\n",
    "\n",
    "Mathematically, σ^2 = λ.\n",
    "\n",
    "In the Poisson distribution, the mean and variance are equal. \n",
    "This means that the spread of the distribution is solely determined by the value of λ. \n",
    "As λ increases, both the mean and variance increase, indicating a broader distribution."
   ]
  },
  {
   "cell_type": "code",
   "execution_count": null,
   "id": "7f2ff7c9-aac5-4a43-8471-25ac5a5479b0",
   "metadata": {},
   "outputs": [],
   "source": [
    "Q10.\n",
    "ANS-\n",
    "\n",
    "In a normal distribution, the least frequent data points appear in the tails of the distribution, farthest away from the mean.\n",
    "The normal distribution is symmetric around its mean, so the least frequent data points are located in the extreme ends of the distribution, both on the left (negative side) and the right (positive side) of the mean.\n",
    "\n",
    "The probability density function (PDF) of a normal distribution reaches its peak at the mean and decreases symmetrically as you move away from the mean in both directions.\n",
    "As a result, the data points that are farther away from the mean have lower probabilities of occurrence, making them less frequent.\n",
    "\n",
    "example:-\n",
    "\n",
    "in a normal distribution with a mean of 0 and a standard deviation of 1, the least frequent data points would be located in the tails of the distribution, which represent values that are significantly larger or smaller than the mean.\n",
    "These extreme values are less likely to occur compared to the values closer to the mean."
   ]
  },
  {
   "cell_type": "code",
   "execution_count": null,
   "id": "0040d11c-44ec-43ed-82b4-dbae75653b34",
   "metadata": {},
   "outputs": [],
   "source": []
  },
  {
   "cell_type": "code",
   "execution_count": null,
   "id": "ac1f2319-3462-44e6-963a-effca2894b18",
   "metadata": {},
   "outputs": [],
   "source": []
  }
 ],
 "metadata": {
  "kernelspec": {
   "display_name": "Python 3 (ipykernel)",
   "language": "python",
   "name": "python3"
  },
  "language_info": {
   "codemirror_mode": {
    "name": "ipython",
    "version": 3
   },
   "file_extension": ".py",
   "mimetype": "text/x-python",
   "name": "python",
   "nbconvert_exporter": "python",
   "pygments_lexer": "ipython3",
   "version": "3.10.8"
  }
 },
 "nbformat": 4,
 "nbformat_minor": 5
}
